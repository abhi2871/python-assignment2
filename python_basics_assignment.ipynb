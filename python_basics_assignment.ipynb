{
  "nbformat": 4,
  "nbformat_minor": 0,
  "metadata": {
    "colab": {
      "provenance": []
    },
    "kernelspec": {
      "name": "python3",
      "display_name": "Python 3"
    },
    "language_info": {
      "name": "python"
    }
  },
  "cells": [
    {
      "cell_type": "code",
      "execution_count": null,
      "metadata": {
        "id": "mYnpFNqqCn9t"
      },
      "outputs": [],
      "source": []
    },
    {
      "cell_type": "markdown",
      "source": [
        "**Q1**Explain the key features of python that make it a popular choice for\n",
        "programming\n",
        "\n",
        "ans: The key features of python that makes it a popular choice for programming are:-\n",
        "\n",
        "1.It is very easy for the developers to write a code in python .\n",
        "\n",
        "2.The python has a variety of pre defined libraries such as panda ,numpy etc which makes it easier for the developer to perform a task .\n",
        "\n",
        "3.The python is a cross platform , high level  and a interpreted programming language.\n",
        "\n",
        "4.The python support both procedural and object oriented programming models .\n",
        "\n",
        "5.The python ,when combined with machine learning and deep learning can be used to develop and create artificial intelligence equipped application and python is used in the fields of data science , data analysis and web development .so it has a vareity of applications . These are the reasons due to which python is a popular choice for programming"
      ],
      "metadata": {
        "id": "WbTCgQYxERMk"
      }
    },
    {
      "cell_type": "markdown",
      "source": [
        "**Q2**Describe the role of predefined keywords in python and provide examples of how they are used in a programme.\n",
        "\n",
        "ans: The python keywords are reserved words and they have a special meaning and when the keywords are used in the programme they perform a specific task for which they are designed . In python variables ,identifiers cannot be named after python keywords .Keywords  are case sensitive in nature i.e  'Continue' and 'continue' are  not same for them.There were 33 keywords in Python 3.7. However, the number increased to 35 in Python 3.8.\n"
      ],
      "metadata": {
        "id": "k7HrCJZxIr4l"
      }
    },
    {
      "cell_type": "code",
      "source": [
        "# examples of pythonkeywords use\n",
        "a=6\n",
        "if (a<10):\n",
        "  print(\"a is smaller than 10 \")\n",
        "  # here 'if' is a predefined keyword which is used to check a condtional statement\n",
        ""
      ],
      "metadata": {
        "colab": {
          "base_uri": "https://localhost:8080/"
        },
        "id": "6DU-NfQyRpBT",
        "outputId": "3257dcea-5360-45f5-adac-381ca8126d19"
      },
      "execution_count": 3,
      "outputs": [
        {
          "output_type": "stream",
          "name": "stdout",
          "text": [
            "a is smaller than 10 \n"
          ]
        }
      ]
    },
    {
      "cell_type": "code",
      "source": [
        "item=[\"soap\",\"chickpeas\",\"conditioner\",\"vegetables\"]\n",
        "\"vegetables\" in item\n",
        "\n",
        "# here 'in' is a predefined keyword which is used to check the membership of a\n",
        "#instance in a list ,tuple etc"
      ],
      "metadata": {
        "colab": {
          "base_uri": "https://localhost:8080/"
        },
        "id": "LfGouhUFTDJZ",
        "outputId": "aea04c2d-1351-4be2-9e1b-c36174f05c60"
      },
      "execution_count": 8,
      "outputs": [
        {
          "output_type": "execute_result",
          "data": {
            "text/plain": [
              "True"
            ]
          },
          "metadata": {},
          "execution_count": 8
        }
      ]
    },
    {
      "cell_type": "markdown",
      "source": [
        "**Q3** Compare and contrast mutable and immutable objects in python with\n",
        "examples\n",
        "\n",
        "ans:\n",
        "Mutable:-In python Mutable objects are the objects which can be changed once they are created i.e item assignment is possible in them after their creation.\n",
        "\n",
        "Im-mutable:-In python Immutable objects are the objects which cannot be changed once they are created i.e item assignment is not possible in them after their creation.\n",
        "\n"
      ],
      "metadata": {
        "id": "16iCyax-aru0"
      }
    },
    {
      "cell_type": "code",
      "source": [
        "#mutable objects in python\n",
        "#list\n",
        "item=[\"vegetable\",\"fruits\",\"soap\",\"essential\"]\n",
        "item[2]=\"detergant\"\n",
        "print(item)\n",
        "#after printing the list it is clearly visible it can be changed so it is mutable"
      ],
      "metadata": {
        "colab": {
          "base_uri": "https://localhost:8080/"
        },
        "id": "vCcJka03fP3P",
        "outputId": "94826c98-7ce5-46fa-8ca1-4bc366045102"
      },
      "execution_count": 9,
      "outputs": [
        {
          "output_type": "stream",
          "name": "stdout",
          "text": [
            "['vegetable', 'fruits', 'detergant', 'essential']\n"
          ]
        }
      ]
    },
    {
      "cell_type": "code",
      "source": [
        "#immutable objects in python\n",
        "#string\n",
        "a=\"TheGame\"\n",
        "a[0]=\"n\"\n",
        "#after runnning we can clearly see str object does not support item assignment\n",
        "#hence it is immutable"
      ],
      "metadata": {
        "colab": {
          "base_uri": "https://localhost:8080/",
          "height": 176
        },
        "id": "be_Yesi6i5aL",
        "outputId": "ef481b41-3f06-49ec-add2-829cf1fe555d"
      },
      "execution_count": 13,
      "outputs": [
        {
          "output_type": "error",
          "ename": "TypeError",
          "evalue": "'str' object does not support item assignment",
          "traceback": [
            "\u001b[0;31m---------------------------------------------------------------------------\u001b[0m",
            "\u001b[0;31mTypeError\u001b[0m                                 Traceback (most recent call last)",
            "\u001b[0;32m<ipython-input-13-9409d0d1e64a>\u001b[0m in \u001b[0;36m<cell line: 4>\u001b[0;34m()\u001b[0m\n\u001b[1;32m      2\u001b[0m \u001b[0;31m#string\u001b[0m\u001b[0;34m\u001b[0m\u001b[0;34m\u001b[0m\u001b[0m\n\u001b[1;32m      3\u001b[0m \u001b[0ma\u001b[0m\u001b[0;34m=\u001b[0m\u001b[0;34m\"TheGame\"\u001b[0m\u001b[0;34m\u001b[0m\u001b[0;34m\u001b[0m\u001b[0m\n\u001b[0;32m----> 4\u001b[0;31m \u001b[0ma\u001b[0m\u001b[0;34m[\u001b[0m\u001b[0;36m0\u001b[0m\u001b[0;34m]\u001b[0m\u001b[0;34m=\u001b[0m\u001b[0;34m\"n\"\u001b[0m\u001b[0;34m\u001b[0m\u001b[0;34m\u001b[0m\u001b[0m\n\u001b[0m",
            "\u001b[0;31mTypeError\u001b[0m: 'str' object does not support item assignment"
          ]
        }
      ]
    },
    {
      "cell_type": "markdown",
      "source": [
        "**Q4**.Discuss the different type of operators in python and provide examples of how they are used\n",
        "\n",
        "ans:Operators in general are used to perform operations on values and variables.\n",
        "\n",
        "Types of Operators in Python are:\n",
        "\n",
        "1.Arithmetic Operators\n",
        "\n",
        "2.Comparison Operators\n",
        "\n",
        "3.Logical Operators\n",
        "\n",
        "4.Bitwise Operators\n",
        "\n",
        "5.Assignment Operators\n",
        "\n",
        "6.Identity Operators\n",
        "\n",
        "7.Membership Operators\n",
        "\n",
        "They are described below:\n",
        "\n",
        "1.arithmetic operators:-\n",
        " Arithmetic operators are used to perform  mathematical operations such as addition, subtraction, multiplication, and division.\n",
        "\n",
        " 2.Comparison Operators:-\n",
        "  Comparison operators is used to compare the values. It either returns True or False according to the condition.\n",
        "\n",
        "3.Logical Operators:-\n",
        " Logical operators perform Logical AND, Logical OR, and Logical NOT operations.\n",
        "\n",
        "4.Bitwise Operators:-\n",
        " Bitwise operators act on bits and perform bit-by-bit operations. These are used to operate on binary numbers\n",
        "\n",
        " 5.Assignment Operators:-\n",
        "  Assignment operators are used to assign values to the variables.\n",
        "\n",
        "6.Identity Operators:-\n",
        "Identity operators used to check if two values are located on the same part of the memory or not.\n",
        "\n",
        "7.Membership Operators:-\n",
        "membership operators  are used to check whether a value or variable is in a sequence or not.\n",
        "\n",
        "  \n",
        "\n"
      ],
      "metadata": {
        "id": "NWOOz_fOkBQA"
      }
    },
    {
      "cell_type": "code",
      "source": [
        "#examples of arithmetic operators\n",
        "a=6\n",
        "b=3\n",
        "print(a+b)\n",
        "print(a-b)\n",
        "print(a*b)\n",
        "print(a/b)\n",
        "#here +,-*,/ are arithmetic operator"
      ],
      "metadata": {
        "colab": {
          "base_uri": "https://localhost:8080/"
        },
        "id": "IfWWhIkvsIqE",
        "outputId": "486f8687-45cb-4084-b47f-48736d941874"
      },
      "execution_count": 14,
      "outputs": [
        {
          "output_type": "stream",
          "name": "stdout",
          "text": [
            "9\n",
            "3\n",
            "18\n",
            "2.0\n"
          ]
        }
      ]
    },
    {
      "cell_type": "code",
      "source": [
        "#examples of comparison operator\n",
        "a = 40\n",
        "b = 33\n",
        "\n",
        "print(a > b)\n",
        "print(a < b)\n",
        "print(a == b)\n",
        "print(a != b)\n",
        "print(a >= b)\n",
        "print(a <= b)\n",
        "#here >,<,==,!=,>=,<= are comparisson operator"
      ],
      "metadata": {
        "colab": {
          "base_uri": "https://localhost:8080/"
        },
        "id": "Qg5DG4iJsifw",
        "outputId": "30a308d3-038b-4353-ae27-ce94e75e503d"
      },
      "execution_count": 15,
      "outputs": [
        {
          "output_type": "stream",
          "name": "stdout",
          "text": [
            "True\n",
            "False\n",
            "False\n",
            "True\n",
            "True\n",
            "False\n"
          ]
        }
      ]
    },
    {
      "cell_type": "code",
      "source": [
        "#examples of  logical operator\n",
        "a = False\n",
        "b = True\n",
        "print(a and b)\n",
        "print(a or b)\n",
        "print(not a)\n",
        "#here and ,or ,not are logical operators"
      ],
      "metadata": {
        "colab": {
          "base_uri": "https://localhost:8080/"
        },
        "id": "qDg1hCyBs_bQ",
        "outputId": "fee8057e-db0f-40e4-cc44-3c1f2d2d1d99"
      },
      "execution_count": 16,
      "outputs": [
        {
          "output_type": "stream",
          "name": "stdout",
          "text": [
            "False\n",
            "True\n",
            "False\n"
          ]
        }
      ]
    },
    {
      "cell_type": "code",
      "source": [
        "#example of bitwise operator\n",
        "a = 18\n",
        "b = 9\n",
        "print(a & b)\n",
        "print(a | b)\n",
        "print(a ^ b)\n",
        "print(a >> 5)\n",
        "print(a << 3)\n",
        "#here &,|,>>,<< are logical operators"
      ],
      "metadata": {
        "colab": {
          "base_uri": "https://localhost:8080/"
        },
        "id": "DbAHITJrtTky",
        "outputId": "0510331d-aeda-4736-e910-95b7058e9c72"
      },
      "execution_count": 17,
      "outputs": [
        {
          "output_type": "stream",
          "name": "stdout",
          "text": [
            "0\n",
            "27\n",
            "-19\n",
            "27\n",
            "0\n",
            "144\n"
          ]
        }
      ]
    },
    {
      "cell_type": "code",
      "source": [
        "#example of assigment operator\n",
        "a = 10\n",
        "b = a\n",
        "print(b)\n",
        "b += a\n",
        "print(b)\n",
        "b -= a\n",
        "# here =,+=,-=,*= are asssignment operator"
      ],
      "metadata": {
        "colab": {
          "base_uri": "https://localhost:8080/"
        },
        "id": "Q-0u9iw3uDVH",
        "outputId": "daba065b-48e1-40fd-cebf-c2704cae49f4"
      },
      "execution_count": 18,
      "outputs": [
        {
          "output_type": "stream",
          "name": "stdout",
          "text": [
            "10\n",
            "20\n"
          ]
        }
      ]
    },
    {
      "cell_type": "code",
      "source": [
        "# example of identity operator\n",
        "a=10\n",
        "b=20\n",
        "c=8\n",
        "a=c\n",
        "print(a is b)\n",
        "print(a is not b )\n",
        "print(a is c)\n",
        "#here is and is not is identity operator\n",
        "\n"
      ],
      "metadata": {
        "colab": {
          "base_uri": "https://localhost:8080/"
        },
        "id": "70L1mg4qv5DY",
        "outputId": "e6b53bd3-af16-455f-c252-47ae1c9c5869"
      },
      "execution_count": 20,
      "outputs": [
        {
          "output_type": "stream",
          "name": "stdout",
          "text": [
            "False\n",
            "True\n",
            "True\n"
          ]
        }
      ]
    },
    {
      "cell_type": "code",
      "source": [
        "# example of membership operator\n",
        "v=\"ajay\"\n",
        "print(\"a\" in v)\n",
        "print(\"z\" not in v)\n",
        "#here in and not in is membership operator"
      ],
      "metadata": {
        "colab": {
          "base_uri": "https://localhost:8080/"
        },
        "id": "zRNxNVUYwrV6",
        "outputId": "67f2adb2-f1d7-4685-bd4d-66f71b7579cf"
      },
      "execution_count": 22,
      "outputs": [
        {
          "output_type": "stream",
          "name": "stdout",
          "text": [
            "True\n",
            "True\n"
          ]
        }
      ]
    },
    {
      "cell_type": "markdown",
      "source": [
        "**Q5** Explain the concept of type casting in python with examples.\n",
        "\n",
        "ans:Type casting:- Type casting is the process in which the datatype of the variable is changed.\n"
      ],
      "metadata": {
        "id": "Qc1Yi6zkxQoa"
      }
    },
    {
      "cell_type": "code",
      "source": [
        "# examples of type casting are shown below\n",
        "a=\"1\"\n",
        "type(a)\n",
        "b=int(a)\n",
        "type(b)\n",
        "#here string a is coverted into int b"
      ],
      "metadata": {
        "colab": {
          "base_uri": "https://localhost:8080/"
        },
        "id": "-UIpT6Qeyqj7",
        "outputId": "5a6311e5-ec8a-4d78-c8ca-d283d3df770b"
      },
      "execution_count": 25,
      "outputs": [
        {
          "output_type": "execute_result",
          "data": {
            "text/plain": [
              "int"
            ]
          },
          "metadata": {},
          "execution_count": 25
        }
      ]
    },
    {
      "cell_type": "code",
      "source": [
        "a=1\n",
        "type(a)\n",
        "b=float(a)\n",
        "type(b)\n",
        "print(b)\n",
        "#here int a is convered into float b"
      ],
      "metadata": {
        "colab": {
          "base_uri": "https://localhost:8080/"
        },
        "id": "2Wxsq8yJzt6D",
        "outputId": "95e54acf-0977-4ce2-8830-01607cf472dc"
      },
      "execution_count": 29,
      "outputs": [
        {
          "output_type": "stream",
          "name": "stdout",
          "text": [
            "1.0\n"
          ]
        }
      ]
    },
    {
      "cell_type": "code",
      "source": [
        "a=\"jay\"\n",
        "bool(a)\n",
        "#here str a is coverted into bool"
      ],
      "metadata": {
        "colab": {
          "base_uri": "https://localhost:8080/"
        },
        "id": "ACVcb4JJ0mWu",
        "outputId": "67d79f30-fe48-474b-93fb-96d444239e61"
      },
      "execution_count": 30,
      "outputs": [
        {
          "output_type": "execute_result",
          "data": {
            "text/plain": [
              "True"
            ]
          },
          "metadata": {},
          "execution_count": 30
        }
      ]
    },
    {
      "cell_type": "markdown",
      "source": [
        "**Q6** How do condtional statement work in python ?illustrates with examples\n",
        "\n",
        "ans:\n",
        "Conditional statements  are used to control the flow of the programme by  executing a specific block of code based on the truth value of a condition.\n",
        "\n",
        "types of condtional statement:\n",
        "\n",
        "1. if -\n",
        "\n",
        "executes the block of code inside it ,if the condition is true\n",
        "\n",
        "2. if-else\n",
        "\n",
        "if-\n",
        "\n",
        "executes the block of code inside it ,if the condition is true\n",
        "\n",
        "else-\n",
        "\n",
        "executes the block of code inside it  ,if the condition is false\n",
        "\n",
        "3.if-elif-else\n",
        "\n",
        "if-\n",
        "\n",
        "executes the block of code inside it ,if the condition is true\n",
        "\n",
        "elif-\n",
        "\n",
        "\n",
        " executes the block of code inside it ,if the condition is true inside it and condition is false in 'if' block\n",
        "\n",
        "else-\n",
        "\n",
        "executes the block of code inside it ,if the condition is true inside it and condition is false in 'if' and 'elif' block\n"
      ],
      "metadata": {
        "id": "6_BIvkqU0vHT"
      }
    },
    {
      "cell_type": "code",
      "source": [
        "# if conditional statement\n",
        "a=5\n",
        "b=6\n",
        "if (a<b):\n",
        "  print(\"a is smaller than b\")"
      ],
      "metadata": {
        "colab": {
          "base_uri": "https://localhost:8080/"
        },
        "id": "pZweLMa_5384",
        "outputId": "d44a406a-cb01-465d-a36f-ca871049a826"
      },
      "execution_count": 32,
      "outputs": [
        {
          "output_type": "stream",
          "name": "stdout",
          "text": [
            "a is smaller than b\n"
          ]
        }
      ]
    },
    {
      "cell_type": "code",
      "source": [
        "#if-else conditional statement\n",
        "a=9\n",
        "b=20\n",
        "if(a>b):\n",
        "  print(\"a is greater than b\")\n",
        "else:\n",
        "  print(\"a is smaller than b\")\n"
      ],
      "metadata": {
        "colab": {
          "base_uri": "https://localhost:8080/"
        },
        "id": "WszIsICx6HUo",
        "outputId": "8dc91509-b0ec-4df3-802a-833e39496656"
      },
      "execution_count": 33,
      "outputs": [
        {
          "output_type": "stream",
          "name": "stdout",
          "text": [
            "a is smaller than b\n"
          ]
        }
      ]
    },
    {
      "cell_type": "code",
      "source": [
        "#if-elif-else condtioal statement\n",
        "a=int(input(\"pls enter the number to check whether it is +ve,-ve or zero \"))\n",
        "if(a<0):\n",
        "  print(\"a is -ve value\")\n",
        "elif(a>0):\n",
        "  print(\"a is +ve value\")\n",
        "else:\n",
        "    print(\"a is zero\")\n"
      ],
      "metadata": {
        "colab": {
          "base_uri": "https://localhost:8080/"
        },
        "id": "PB8NRTak6BaC",
        "outputId": "fe8f4b69-b4e9-4cb8-e739-4ebf2d59ac83"
      },
      "execution_count": 36,
      "outputs": [
        {
          "output_type": "stream",
          "name": "stdout",
          "text": [
            "pls enter the number to check whether it is +ve,-ve or zero 0\n",
            "a is zero\n"
          ]
        }
      ]
    },
    {
      "cell_type": "markdown",
      "source": [
        "**Q7** Explain different types of loop in python and their use cases with example\n",
        "\n",
        "ans: There are two types of loop in python named as for loop and whule loop .\n",
        "they are described below\n",
        "\n",
        "for loop:-For loops is used  iterate over a given sequence like list or string etc.\n",
        "\n",
        "while loop:- while loop is used to execute a block of statements repeatedly until a given condition is satisfied."
      ],
      "metadata": {
        "id": "6ayA3_yl7lLI"
      }
    },
    {
      "cell_type": "code",
      "source": [
        "#for loop\n",
        "a=\"pwskillsisgood\"\n",
        "for i in a:\n",
        "  print(i,end=\"\")"
      ],
      "metadata": {
        "colab": {
          "base_uri": "https://localhost:8080/"
        },
        "id": "17C5CUCD-RKG",
        "outputId": "78fb8ecb-5e5b-4db0-bfb9-f758fc86d5ae"
      },
      "execution_count": 38,
      "outputs": [
        {
          "output_type": "stream",
          "name": "stdout",
          "text": [
            "pwskillsisgood"
          ]
        }
      ]
    },
    {
      "cell_type": "code",
      "source": [
        "#while loop\n",
        "i=1\n",
        "n=5\n",
        "while(i<n):\n",
        "  print(\"*\",end=\"\")\n",
        "  i=i+1\n",
        "  print()"
      ],
      "metadata": {
        "colab": {
          "base_uri": "https://localhost:8080/"
        },
        "id": "iBjR3DSZ-h2J",
        "outputId": "62299a93-0331-4e71-b6a7-3a9b68aa663d"
      },
      "execution_count": 41,
      "outputs": [
        {
          "output_type": "stream",
          "name": "stdout",
          "text": [
            "*\n",
            "*\n",
            "*\n",
            "*\n"
          ]
        }
      ]
    },
    {
      "cell_type": "code",
      "source": [],
      "metadata": {
        "id": "BPhkml9f-s5H"
      },
      "execution_count": null,
      "outputs": []
    }
  ]
}